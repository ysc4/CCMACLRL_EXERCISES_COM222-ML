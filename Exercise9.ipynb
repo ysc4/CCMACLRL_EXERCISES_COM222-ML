{
  "cells": [
    {
      "cell_type": "markdown",
      "metadata": {
        "id": "view-in-github",
        "colab_type": "text"
      },
      "source": [
        "<a href=\"https://colab.research.google.com/github/ysc4/CCMACLRL_EXERCISES_COM222-ML/blob/main/Exercise9.ipynb\" target=\"_parent\"><img src=\"https://colab.research.google.com/assets/colab-badge.svg\" alt=\"Open In Colab\"/></a>"
      ]
    },
    {
      "cell_type": "markdown",
      "source": [
        "## Exercise 9: Choosing the best performing model on a dataset\n",
        "\n",
        "Instructions:\n",
        "\n",
        "- Use the Dataset File to train your model\n",
        "- Use the Test File to generate your results\n",
        "- Use the Sample Submission file to generate the same format\n",
        "- Use all classification models\n",
        "\n",
        "Submit your results to:\n",
        "https://www.kaggle.com/competitions/playground-series-s4e10/overview\n",
        "\n"
      ],
      "metadata": {
        "id": "99_2rPCJrNfK"
      }
    },
    {
      "cell_type": "code",
      "execution_count": null,
      "metadata": {
        "id": "R_se3V8gftVL"
      },
      "outputs": [],
      "source": [
        "import pandas as pd\n",
        "import seaborn as sns\n",
        "\n",
        "from matplotlib import pyplot as plt\n",
        "from sklearn.neighbors import KNeighborsClassifier\n",
        "from sklearn.linear_model import LogisticRegression\n",
        "from sklearn.svm import SVC\n",
        "from sklearn.naive_bayes import GaussianNB\n",
        "from sklearn.tree import DecisionTreeClassifier\n",
        "from sklearn.ensemble import RandomForestClassifier\n",
        "from sklearn.model_selection import train_test_split"
      ]
    },
    {
      "cell_type": "markdown",
      "metadata": {
        "id": "eCNNEXIhftVN"
      },
      "source": [
        "## Dataset File"
      ]
    },
    {
      "cell_type": "code",
      "execution_count": null,
      "metadata": {
        "id": "-Cqj3uEkftVO"
      },
      "outputs": [],
      "source": [
        "dataset_url = 'https://github.com/robitussin/CCMACLRL_EXERCISES/blob/main/datasets/loan_approval/train.csv?raw=true'\n",
        "df = pd.read_csv(dataset_url)"
      ]
    },
    {
      "cell_type": "markdown",
      "metadata": {
        "id": "mLFiGySNftVP"
      },
      "source": [
        "## Test File"
      ]
    },
    {
      "cell_type": "code",
      "execution_count": null,
      "metadata": {
        "id": "7pKmP53fftVP"
      },
      "outputs": [],
      "source": [
        "test_url = 'https://github.com/robitussin/CCMACLRL_EXERCISES/blob/main/datasets/loan_approval/test.csv?raw=true'\n",
        "dt=pd.read_csv(test_url)"
      ]
    },
    {
      "cell_type": "code",
      "source": [
        "dt.info()"
      ],
      "metadata": {
        "colab": {
          "base_uri": "https://localhost:8080/"
        },
        "id": "2f11HsMzqEvJ",
        "outputId": "008ef5fe-649e-46f6-d68e-69457981191e"
      },
      "execution_count": null,
      "outputs": [
        {
          "output_type": "stream",
          "name": "stdout",
          "text": [
            "<class 'pandas.core.frame.DataFrame'>\n",
            "RangeIndex: 39098 entries, 0 to 39097\n",
            "Data columns (total 12 columns):\n",
            " #   Column                      Non-Null Count  Dtype  \n",
            "---  ------                      --------------  -----  \n",
            " 0   id                          39098 non-null  int64  \n",
            " 1   person_age                  39098 non-null  int64  \n",
            " 2   person_income               39098 non-null  int64  \n",
            " 3   person_home_ownership       39098 non-null  object \n",
            " 4   person_emp_length           39098 non-null  float64\n",
            " 5   loan_intent                 39098 non-null  object \n",
            " 6   loan_grade                  39098 non-null  object \n",
            " 7   loan_amnt                   39098 non-null  int64  \n",
            " 8   loan_int_rate               39098 non-null  float64\n",
            " 9   loan_percent_income         39098 non-null  float64\n",
            " 10  cb_person_default_on_file   39098 non-null  object \n",
            " 11  cb_person_cred_hist_length  39098 non-null  int64  \n",
            "dtypes: float64(3), int64(5), object(4)\n",
            "memory usage: 3.6+ MB\n"
          ]
        }
      ]
    },
    {
      "cell_type": "markdown",
      "metadata": {
        "id": "ntGpbsBg8hft"
      },
      "source": [
        "## Sample Submission File"
      ]
    },
    {
      "cell_type": "code",
      "execution_count": null,
      "metadata": {
        "id": "-5Dwtw_w3U8W"
      },
      "outputs": [],
      "source": [
        "sample_submission_url ='https://github.com/robitussin/CCMACLRL_EXERCISES/blob/main/datasets/loan_approval/sample_submission.csv?raw=true'\n",
        "\n",
        "sf=pd.read_csv(sample_submission_url)"
      ]
    },
    {
      "cell_type": "code",
      "source": [
        "sf.info()"
      ],
      "metadata": {
        "colab": {
          "base_uri": "https://localhost:8080/"
        },
        "id": "K1_62qZBqLjV",
        "outputId": "fd52b004-a9f4-4a28-9a7f-6ec54cfc200b"
      },
      "execution_count": null,
      "outputs": [
        {
          "output_type": "stream",
          "name": "stdout",
          "text": [
            "<class 'pandas.core.frame.DataFrame'>\n",
            "RangeIndex: 39098 entries, 0 to 39097\n",
            "Data columns (total 2 columns):\n",
            " #   Column       Non-Null Count  Dtype  \n",
            "---  ------       --------------  -----  \n",
            " 0   id           39098 non-null  int64  \n",
            " 1   loan_status  39098 non-null  float64\n",
            "dtypes: float64(1), int64(1)\n",
            "memory usage: 611.0 KB\n"
          ]
        }
      ]
    },
    {
      "cell_type": "markdown",
      "source": [
        "# Data Preprocessing"
      ],
      "metadata": {
        "id": "7nNjd6aErISr"
      }
    },
    {
      "cell_type": "code",
      "source": [
        "df.isna().sum()"
      ],
      "metadata": {
        "id": "DtqJH7yPrHSm",
        "colab": {
          "base_uri": "https://localhost:8080/",
          "height": 491
        },
        "outputId": "6e74f538-aeca-49cd-8c75-d1a0064eaa0a"
      },
      "execution_count": null,
      "outputs": [
        {
          "output_type": "execute_result",
          "data": {
            "text/plain": [
              "id                            0\n",
              "person_age                    0\n",
              "person_income                 0\n",
              "person_home_ownership         0\n",
              "person_emp_length             0\n",
              "loan_intent                   0\n",
              "loan_grade                    0\n",
              "loan_amnt                     0\n",
              "loan_int_rate                 0\n",
              "loan_percent_income           0\n",
              "cb_person_default_on_file     0\n",
              "cb_person_cred_hist_length    0\n",
              "loan_status                   0\n",
              "dtype: int64"
            ],
            "text/html": [
              "<div>\n",
              "<style scoped>\n",
              "    .dataframe tbody tr th:only-of-type {\n",
              "        vertical-align: middle;\n",
              "    }\n",
              "\n",
              "    .dataframe tbody tr th {\n",
              "        vertical-align: top;\n",
              "    }\n",
              "\n",
              "    .dataframe thead th {\n",
              "        text-align: right;\n",
              "    }\n",
              "</style>\n",
              "<table border=\"1\" class=\"dataframe\">\n",
              "  <thead>\n",
              "    <tr style=\"text-align: right;\">\n",
              "      <th></th>\n",
              "      <th>0</th>\n",
              "    </tr>\n",
              "  </thead>\n",
              "  <tbody>\n",
              "    <tr>\n",
              "      <th>id</th>\n",
              "      <td>0</td>\n",
              "    </tr>\n",
              "    <tr>\n",
              "      <th>person_age</th>\n",
              "      <td>0</td>\n",
              "    </tr>\n",
              "    <tr>\n",
              "      <th>person_income</th>\n",
              "      <td>0</td>\n",
              "    </tr>\n",
              "    <tr>\n",
              "      <th>person_home_ownership</th>\n",
              "      <td>0</td>\n",
              "    </tr>\n",
              "    <tr>\n",
              "      <th>person_emp_length</th>\n",
              "      <td>0</td>\n",
              "    </tr>\n",
              "    <tr>\n",
              "      <th>loan_intent</th>\n",
              "      <td>0</td>\n",
              "    </tr>\n",
              "    <tr>\n",
              "      <th>loan_grade</th>\n",
              "      <td>0</td>\n",
              "    </tr>\n",
              "    <tr>\n",
              "      <th>loan_amnt</th>\n",
              "      <td>0</td>\n",
              "    </tr>\n",
              "    <tr>\n",
              "      <th>loan_int_rate</th>\n",
              "      <td>0</td>\n",
              "    </tr>\n",
              "    <tr>\n",
              "      <th>loan_percent_income</th>\n",
              "      <td>0</td>\n",
              "    </tr>\n",
              "    <tr>\n",
              "      <th>cb_person_default_on_file</th>\n",
              "      <td>0</td>\n",
              "    </tr>\n",
              "    <tr>\n",
              "      <th>cb_person_cred_hist_length</th>\n",
              "      <td>0</td>\n",
              "    </tr>\n",
              "    <tr>\n",
              "      <th>loan_status</th>\n",
              "      <td>0</td>\n",
              "    </tr>\n",
              "  </tbody>\n",
              "</table>\n",
              "</div><br><label><b>dtype:</b> int64</label>"
            ]
          },
          "metadata": {},
          "execution_count": 7
        }
      ]
    },
    {
      "cell_type": "code",
      "source": [
        "df.duplicated().sum()"
      ],
      "metadata": {
        "colab": {
          "base_uri": "https://localhost:8080/"
        },
        "id": "mPRKsiYRjju8",
        "outputId": "fa038b84-e491-446a-8ce4-bf0239015a9c"
      },
      "execution_count": null,
      "outputs": [
        {
          "output_type": "execute_result",
          "data": {
            "text/plain": [
              "0"
            ]
          },
          "metadata": {},
          "execution_count": 8
        }
      ]
    },
    {
      "cell_type": "code",
      "source": [
        "df['loan_status'].value_counts()"
      ],
      "metadata": {
        "colab": {
          "base_uri": "https://localhost:8080/",
          "height": 178
        },
        "id": "OQGaZSx0jtA4",
        "outputId": "9a07cf68-068c-491b-f18c-d85b12cd37d1"
      },
      "execution_count": null,
      "outputs": [
        {
          "output_type": "execute_result",
          "data": {
            "text/plain": [
              "loan_status\n",
              "0    50295\n",
              "1     8350\n",
              "Name: count, dtype: int64"
            ],
            "text/html": [
              "<div>\n",
              "<style scoped>\n",
              "    .dataframe tbody tr th:only-of-type {\n",
              "        vertical-align: middle;\n",
              "    }\n",
              "\n",
              "    .dataframe tbody tr th {\n",
              "        vertical-align: top;\n",
              "    }\n",
              "\n",
              "    .dataframe thead th {\n",
              "        text-align: right;\n",
              "    }\n",
              "</style>\n",
              "<table border=\"1\" class=\"dataframe\">\n",
              "  <thead>\n",
              "    <tr style=\"text-align: right;\">\n",
              "      <th></th>\n",
              "      <th>count</th>\n",
              "    </tr>\n",
              "    <tr>\n",
              "      <th>loan_status</th>\n",
              "      <th></th>\n",
              "    </tr>\n",
              "  </thead>\n",
              "  <tbody>\n",
              "    <tr>\n",
              "      <th>0</th>\n",
              "      <td>50295</td>\n",
              "    </tr>\n",
              "    <tr>\n",
              "      <th>1</th>\n",
              "      <td>8350</td>\n",
              "    </tr>\n",
              "  </tbody>\n",
              "</table>\n",
              "</div><br><label><b>dtype:</b> int64</label>"
            ]
          },
          "metadata": {},
          "execution_count": 9
        }
      ]
    },
    {
      "cell_type": "code",
      "source": [
        "df.drop('id', axis=1, inplace=True)\n",
        "dt.drop('id', axis=1, inplace=True)\n",
        "numerical_features = df.select_dtypes(include=['int64', 'float64']).columns\n",
        "numerical_features = numerical_features.drop('loan_status')\n",
        "categorical_features = df.select_dtypes(include=['object']).columns\n",
        "print(numerical_features)\n",
        "print(categorical_features)"
      ],
      "metadata": {
        "colab": {
          "base_uri": "https://localhost:8080/"
        },
        "id": "AtKCHJW-jxcS",
        "outputId": "eff0750f-8924-42f8-c6fc-1f71685ec504"
      },
      "execution_count": null,
      "outputs": [
        {
          "output_type": "stream",
          "name": "stdout",
          "text": [
            "Index(['person_age', 'person_income', 'person_emp_length', 'loan_amnt',\n",
            "       'loan_int_rate', 'loan_percent_income', 'cb_person_cred_hist_length'],\n",
            "      dtype='object')\n",
            "Index(['person_home_ownership', 'loan_intent', 'loan_grade',\n",
            "       'cb_person_default_on_file'],\n",
            "      dtype='object')\n"
          ]
        }
      ]
    },
    {
      "cell_type": "markdown",
      "source": [
        "## Data Visualization"
      ],
      "metadata": {
        "id": "WPC-BKvup5Kj"
      }
    },
    {
      "cell_type": "code",
      "source": [
        "for label in numerical_features:\n",
        "    plt.hist(df[label], bins=20)\n",
        "    plt.xlabel(label)\n",
        "    plt.ylabel('Frequency')\n",
        "    plt.title(label)\n",
        "    plt.show()"
      ],
      "metadata": {
        "colab": {
          "base_uri": "https://localhost:8080/",
          "height": 1000
        },
        "id": "Yq5xIGeQpTPV",
        "outputId": "e33fce29-34c7-486c-ab83-04c29dedc381"
      },
      "execution_count": null,
      "outputs": [
        {
          "output_type": "display_data",
          "data": {
            "text/plain": [
              "<Figure size 640x480 with 1 Axes>"
            ],
            "image/png": "[encoded data removed]"
          },
          "metadata": {}
        },
        {
          "output_type": "display_data",
          "data": {
            "text/plain": [
              "<Figure size 640x480 with 1 Axes>"
            ],
            "image/png": "[encoded data removed]"
          },
          "metadata": {}
        },
        {
          "output_type": "display_data",
          "data": {
            "text/plain": [
              "<Figure size 640x480 with 1 Axes>"
            ],
            "image/png": "[encoded data removed]"
          },
          "metadata": {}
        },
        {
          "output_type": "display_data",
          "data": {
            "text/plain": [
              "<Figure size 640x480 with 1 Axes>"
            ],
            "image/png": "[encoded data removed]"
          },
          "metadata": {}
        },
        {
          "output_type": "display_data",
          "data": {
            "text/plain": [
              "<Figure size 640x480 with 1 Axes>"
            ],
            "image/png": "[encoded data removed]"
          },
          "metadata": {}
        },
        {
          "output_type": "display_data",
          "data": {
            "text/plain": [
              "<Figure size 640x480 with 1 Axes>"
            ],
            "image/png": "[encoded data removed]"
          },
          "metadata": {}
        },
        {
          "output_type": "display_data",
          "data": {
            "text/plain": [
              "<Figure size 640x480 with 1 Axes>"
            ],
            "image/png": "[encoded data removed]"
          },
          "metadata": {}
        }
      ]
    },
    {
      "cell_type": "code",
      "source": [
        "for label in categorical_features:\n",
        "    plt.figure(figsize=(5, 5))\n",
        "    sns.countplot(data=df, x=label, hue='loan_status')"
      ],
      "metadata": {
        "colab": {
          "base_uri": "https://localhost:8080/",
          "height": 1000
        },
        "id": "gYjXQOLgpdmm",
        "outputId": "13dd4fbb-9770-4b7d-ae49-3d071b4ffaf6"
      },
      "execution_count": null,
      "outputs": [
        {
          "output_type": "display_data",
          "data": {
            "text/plain": [
              "<Figure size 500x500 with 1 Axes>"
            ],
            "image/png": "[encoded data removed]"
          },
          "metadata": {}
        },
        {
          "output_type": "display_data",
          "data": {
            "text/plain": [
              "<Figure size 500x500 with 1 Axes>"
            ],
            "image/png": "[encoded data removed]"
          },
          "metadata": {}
        },
        {
          "output_type": "display_data",
          "data": {
            "text/plain": [
              "<Figure size 500x500 with 1 Axes>"
            ],
            "image/png": "[encoded data removed]"
          },
          "metadata": {}
        },
        {
          "output_type": "display_data",
          "data": {
            "text/plain": [
              "<Figure size 500x500 with 1 Axes>"
            ],
            "image/png": "[encoded data removed]"
          },
          "metadata": {}
        }
      ]
    },
    {
      "cell_type": "code",
      "source": [
        "for col in categorical_features:\n",
        "    print(f\"{col} : {df[col].unique()}\")"
      ],
      "metadata": {
        "colab": {
          "base_uri": "https://localhost:8080/"
        },
        "id": "N3xTM2KVk5Zy",
        "outputId": "b9650b65-d2c0-408d-aff5-47eaba1f2636"
      },
      "execution_count": null,
      "outputs": [
        {
          "output_type": "stream",
          "name": "stdout",
          "text": [
            "person_home_ownership : ['RENT' 'OWN' 'MORTGAGE' 'OTHER']\n",
            "loan_intent : ['EDUCATION' 'MEDICAL' 'PERSONAL' 'VENTURE' 'DEBTCONSOLIDATION'\n",
            " 'HOMEIMPROVEMENT']\n",
            "loan_grade : ['B' 'C' 'A' 'D' 'E' 'F' 'G']\n",
            "cb_person_default_on_file : ['N' 'Y']\n"
          ]
        }
      ]
    },
    {
      "cell_type": "code",
      "source": [
        "df.describe()"
      ],
      "metadata": {
        "colab": {
          "base_uri": "https://localhost:8080/",
          "height": 320
        },
        "id": "LQ_K7Wr1lx1Y",
        "outputId": "3337b6c5-83e0-4e24-c39c-a0b41f0cb958"
      },
      "execution_count": null,
      "outputs": [
        {
          "output_type": "execute_result",
          "data": {
            "text/plain": [
              "         person_age  person_income  person_emp_length     loan_amnt  \\\n",
              "count  58645.000000   5.864500e+04       58645.000000  58645.000000   \n",
              "mean      27.550857   6.404617e+04           4.701015   9217.556518   \n",
              "std        6.033216   3.793111e+04           3.959784   5563.807384   \n",
              "min       20.000000   4.200000e+03           0.000000    500.000000   \n",
              "25%       23.000000   4.200000e+04           2.000000   5000.000000   \n",
              "50%       26.000000   5.800000e+04           4.000000   8000.000000   \n",
              "75%       30.000000   7.560000e+04           7.000000  12000.000000   \n",
              "max      123.000000   1.900000e+06         123.000000  35000.000000   \n",
              "\n",
              "       loan_int_rate  loan_percent_income  cb_person_cred_hist_length  \\\n",
              "count   58645.000000         58645.000000                58645.000000   \n",
              "mean       10.677874             0.159238                    5.813556   \n",
              "std         3.034697             0.091692                    4.029196   \n",
              "min         5.420000             0.000000                    2.000000   \n",
              "25%         7.880000             0.090000                    3.000000   \n",
              "50%        10.750000             0.140000                    4.000000   \n",
              "75%        12.990000             0.210000                    8.000000   \n",
              "max        23.220000             0.830000                   30.000000   \n",
              "\n",
              "        loan_status  \n",
              "count  58645.000000  \n",
              "mean       0.142382  \n",
              "std        0.349445  \n",
              "min        0.000000  \n",
              "25%        0.000000  \n",
              "50%        0.000000  \n",
              "75%        0.000000  \n",
              "max        1.000000  "
            ],
            "text/html": [
              "\n",
              "  <div id=\"df-417671dd-4007-465f-b743-c332cff0e728\" class=\"colab-df-container\">\n",
              "    <div>\n",
              "<style scoped>\n",
              "    .dataframe tbody tr th:only-of-type {\n",
              "        vertical-align: middle;\n",
              "    }\n",
              "\n",
              "    .dataframe tbody tr th {\n",
              "        vertical-align: top;\n",
              "    }\n",
              "\n",
              "    .dataframe thead th {\n",
              "        text-align: right;\n",
              "    }\n",
              "</style>\n",
              "<table border=\"1\" class=\"dataframe\">\n",
              "  <thead>\n",
              "    <tr style=\"text-align: right;\">\n",
              "      <th></th>\n",
              "      <th>person_age</th>\n",
              "      <th>person_income</th>\n",
              "      <th>person_emp_length</th>\n",
              "      <th>loan_amnt</th>\n",
              "      <th>loan_int_rate</th>\n",
              "      <th>loan_percent_income</th>\n",
              "      <th>cb_person_cred_hist_length</th>\n",
              "      <th>loan_status</th>\n",
              "    </tr>\n",
              "  </thead>\n",
              "  <tbody>\n",
              "    <tr>\n",
              "      <th>count</th>\n",
              "      <td>58645.000000</td>\n",
              "      <td>5.864500e+04</td>\n",
              "      <td>58645.000000</td>\n",
              "      <td>58645.000000</td>\n",
              "      <td>58645.000000</td>\n",
              "      <td>58645.000000</td>\n",
              "      <td>58645.000000</td>\n",
              "      <td>58645.000000</td>\n",
              "    </tr>\n",
              "    <tr>\n",
              "      <th>mean</th>\n",
              "      <td>27.550857</td>\n",
              "      <td>6.404617e+04</td>\n",
              "      <td>4.701015</td>\n",
              "      <td>9217.556518</td>\n",
              "      <td>10.677874</td>\n",
              "      <td>0.159238</td>\n",
              "      <td>5.813556</td>\n",
              "      <td>0.142382</td>\n",
              "    </tr>\n",
              "    <tr>\n",
              "      <th>std</th>\n",
              "      <td>6.033216</td>\n",
              "      <td>3.793111e+04</td>\n",
              "      <td>3.959784</td>\n",
              "      <td>5563.807384</td>\n",
              "      <td>3.034697</td>\n",
              "      <td>0.091692</td>\n",
              "      <td>4.029196</td>\n",
              "      <td>0.349445</td>\n",
              "    </tr>\n",
              "    <tr>\n",
              "      <th>min</th>\n",
              "      <td>20.000000</td>\n",
              "      <td>4.200000e+03</td>\n",
              "      <td>0.000000</td>\n",
              "      <td>500.000000</td>\n",
              "      <td>5.420000</td>\n",
              "      <td>0.000000</td>\n",
              "      <td>2.000000</td>\n",
              "      <td>0.000000</td>\n",
              "    </tr>\n",
              "    <tr>\n",
              "      <th>25%</th>\n",
              "      <td>23.000000</td>\n",
              "      <td>4.200000e+04</td>\n",
              "      <td>2.000000</td>\n",
              "      <td>5000.000000</td>\n",
              "      <td>7.880000</td>\n",
              "      <td>0.090000</td>\n",
              "      <td>3.000000</td>\n",
              "      <td>0.000000</td>\n",
              "    </tr>\n",
              "    <tr>\n",
              "      <th>50%</th>\n",
              "      <td>26.000000</td>\n",
              "      <td>5.800000e+04</td>\n",
              "      <td>4.000000</td>\n",
              "      <td>8000.000000</td>\n",
              "      <td>10.750000</td>\n",
              "      <td>0.140000</td>\n",
              "      <td>4.000000</td>\n",
              "      <td>0.000000</td>\n",
              "    </tr>\n",
              "    <tr>\n",
              "      <th>75%</th>\n",
              "      <td>30.000000</td>\n",
              "      <td>7.560000e+04</td>\n",
              "      <td>7.000000</td>\n",
              "      <td>12000.000000</td>\n",
              "      <td>12.990000</td>\n",
              "      <td>0.210000</td>\n",
              "      <td>8.000000</td>\n",
              "      <td>0.000000</td>\n",
              "    </tr>\n",
              "    <tr>\n",
              "      <th>max</th>\n",
              "      <td>123.000000</td>\n",
              "      <td>1.900000e+06</td>\n",
              "      <td>123.000000</td>\n",
              "      <td>35000.000000</td>\n",
              "      <td>23.220000</td>\n",
              "      <td>0.830000</td>\n",
              "      <td>30.000000</td>\n",
              "      <td>1.000000</td>\n",
              "    </tr>\n",
              "  </tbody>\n",
              "</table>\n",
              "</div>\n",
              "    <div class=\"colab-df-buttons\">\n",
              "\n",
              "  <div class=\"colab-df-container\">\n",
              "    <button class=\"colab-df-convert\" onclick=\"convertToInteractive('df-417671dd-4007-465f-b743-c332cff0e728')\"\n",
              "            title=\"Convert this dataframe to an interactive table.\"\n",
              "            style=\"display:none;\">\n",
              "\n",
              "  <svg xmlns=\"http://www.w3.org/2000/svg\" height=\"24px\" viewBox=\"0 -960 960 960\">\n",
              "    <path d=\"M120-120v-720h720v720H120Zm60-500h600v-160H180v160Zm220 220h160v-160H400v160Zm0 220h160v-160H400v160ZM180-400h160v-160H180v160Zm440 0h160v-160H620v160ZM180-180h160v-160H180v160Zm440 0h160v-160H620v160Z\"/>\n",
              "  </svg>\n",
              "    </button>\n",
              "\n",
              "  <style>\n",
              "    .colab-df-container {\n",
              "      display:flex;\n",
              "      gap: 12px;\n",
              "    }\n",
              "\n",
              "    .colab-df-convert {\n",
              "      background-color: #E8F0FE;\n",
              "      border: none;\n",
              "      border-radius: 50%;\n",
              "      cursor: pointer;\n",
              "      display: none;\n",
              "      fill: #1967D2;\n",
              "      height: 32px;\n",
              "      padding: 0 0 0 0;\n",
              "      width: 32px;\n",
              "    }\n",
              "\n",
              "    .colab-df-convert:hover {\n",
              "      background-color: #E2EBFA;\n",
              "      box-shadow: 0px 1px 2px rgba(60, 64, 67, 0.3), 0px 1px 3px 1px rgba(60, 64, 67, 0.15);\n",
              "      fill: #174EA6;\n",
              "    }\n",
              "\n",
              "    .colab-df-buttons div {\n",
              "      margin-bottom: 4px;\n",
              "    }\n",
              "\n",
              "    [theme=dark] .colab-df-convert {\n",
              "      background-color: #3B4455;\n",
              "      fill: #D2E3FC;\n",
              "    }\n",
              "\n",
              "    [theme=dark] .colab-df-convert:hover {\n",
              "      background-color: #434B5C;\n",
              "      box-shadow: 0px 1px 3px 1px rgba(0, 0, 0, 0.15);\n",
              "      filter: drop-shadow(0px 1px 2px rgba(0, 0, 0, 0.3));\n",
              "      fill: #FFFFFF;\n",
              "    }\n",
              "  </style>\n",
              "\n",
              "    <script>\n",
              "      const buttonEl =\n",
              "        document.querySelector('#df-417671dd-4007-465f-b743-c332cff0e728 button.colab-df-convert');\n",
              "      buttonEl.style.display =\n",
              "        google.colab.kernel.accessAllowed ? 'block' : 'none';\n",
              "\n",
              "      async function convertToInteractive(key) {\n",
              "        const element = document.querySelector('#df-417671dd-4007-465f-b743-c332cff0e728');\n",
              "        const dataTable =\n",
              "          await google.colab.kernel.invokeFunction('convertToInteractive',\n",
              "                                                    [key], {});\n",
              "        if (!dataTable) return;\n",
              "\n",
              "        const docLinkHtml = 'Like what you see? Visit the ' +\n",
              "          '<a target=\"_blank\" href=https://colab.research.google.com/notebooks/data_table.ipynb>data table notebook</a>'\n",
              "          + ' to learn more about interactive tables.';\n",
              "        element.innerHTML = '';\n",
              "        dataTable['output_type'] = 'display_data';\n",
              "        await google.colab.output.renderOutput(dataTable, element);\n",
              "        const docLink = document.createElement('div');\n",
              "        docLink.innerHTML = docLinkHtml;\n",
              "        element.appendChild(docLink);\n",
              "      }\n",
              "    </script>\n",
              "  </div>\n",
              "\n",
              "\n",
              "<div id=\"df-b5b40347-b708-496f-b55a-80c73f561121\">\n",
              "  <button class=\"colab-df-quickchart\" onclick=\"quickchart('df-b5b40347-b708-496f-b55a-80c73f561121')\"\n",
              "            title=\"Suggest charts\"\n",
              "            style=\"display:none;\">\n",
              "\n",
              "<svg xmlns=\"http://www.w3.org/2000/svg\" height=\"24px\"viewBox=\"0 0 24 24\"\n",
              "     width=\"24px\">\n",
              "    <g>\n",
              "        <path d=\"M19 3H5c-1.1 0-2 .9-2 2v14c0 1.1.9 2 2 2h14c1.1 0 2-.9 2-2V5c0-1.1-.9-2-2-2zM9 17H7v-7h2v7zm4 0h-2V7h2v10zm4 0h-2v-4h2v4z\"/>\n",
              "    </g>\n",
              "</svg>\n",
              "  </button>\n",
              "\n",
              "<style>\n",
              "  .colab-df-quickchart {\n",
              "      --bg-color: #E8F0FE;\n",
              "      --fill-color: #1967D2;\n",
              "      --hover-bg-color: #E2EBFA;\n",
              "      --hover-fill-color: #174EA6;\n",
              "      --disabled-fill-color: #AAA;\n",
              "      --disabled-bg-color: #DDD;\n",
              "  }\n",
              "\n",
              "  [theme=dark] .colab-df-quickchart {\n",
              "      --bg-color: #3B4455;\n",
              "      --fill-color: #D2E3FC;\n",
              "      --hover-bg-color: #434B5C;\n",
              "      --hover-fill-color: #FFFFFF;\n",
              "      --disabled-bg-color: #3B4455;\n",
              "      --disabled-fill-color: #666;\n",
              "  }\n",
              "\n",
              "  .colab-df-quickchart {\n",
              "    background-color: var(--bg-color);\n",
              "    border: none;\n",
              "    border-radius: 50%;\n",
              "    cursor: pointer;\n",
              "    display: none;\n",
              "    fill: var(--fill-color);\n",
              "    height: 32px;\n",
              "    padding: 0;\n",
              "    width: 32px;\n",
              "  }\n",
              "\n",
              "  .colab-df-quickchart:hover {\n",
              "    background-color: var(--hover-bg-color);\n",
              "    box-shadow: 0 1px 2px rgba(60, 64, 67, 0.3), 0 1px 3px 1px rgba(60, 64, 67, 0.15);\n",
              "    fill: var(--button-hover-fill-color);\n",
              "  }\n",
              "\n",
              "  .colab-df-quickchart-complete:disabled,\n",
              "  .colab-df-quickchart-complete:disabled:hover {\n",
              "    background-color: var(--disabled-bg-color);\n",
              "    fill: var(--disabled-fill-color);\n",
              "    box-shadow: none;\n",
              "  }\n",
              "\n",
              "  .colab-df-spinner {\n",
              "    border: 2px solid var(--fill-color);\n",
              "    border-color: transparent;\n",
              "    border-bottom-color: var(--fill-color);\n",
              "    animation:\n",
              "      spin 1s steps(1) infinite;\n",
              "  }\n",
              "\n",
              "  @keyframes spin {\n",
              "    0% {\n",
              "      border-color: transparent;\n",
              "      border-bottom-color: var(--fill-color);\n",
              "      border-left-color: var(--fill-color);\n",
              "    }\n",
              "    20% {\n",
              "      border-color: transparent;\n",
              "      border-left-color: var(--fill-color);\n",
              "      border-top-color: var(--fill-color);\n",
              "    }\n",
              "    30% {\n",
              "      border-color: transparent;\n",
              "      border-left-color: var(--fill-color);\n",
              "      border-top-color: var(--fill-color);\n",
              "      border-right-color: var(--fill-color);\n",
              "    }\n",
              "    40% {\n",
              "      border-color: transparent;\n",
              "      border-right-color: var(--fill-color);\n",
              "      border-top-color: var(--fill-color);\n",
              "    }\n",
              "    60% {\n",
              "      border-color: transparent;\n",
              "      border-right-color: var(--fill-color);\n",
              "    }\n",
              "    80% {\n",
              "      border-color: transparent;\n",
              "      border-right-color: var(--fill-color);\n",
              "      border-bottom-color: var(--fill-color);\n",
              "    }\n",
              "    90% {\n",
              "      border-color: transparent;\n",
              "      border-bottom-color: var(--fill-color);\n",
              "    }\n",
              "  }\n",
              "</style>\n",
              "\n",
              "  <script>\n",
              "    async function quickchart(key) {\n",
              "      const quickchartButtonEl =\n",
              "        document.querySelector('#' + key + ' button');\n",
              "      quickchartButtonEl.disabled = true;  // To prevent multiple clicks.\n",
              "      quickchartButtonEl.classList.add('colab-df-spinner');\n",
              "      try {\n",
              "        const charts = await google.colab.kernel.invokeFunction(\n",
              "            'suggestCharts', [key], {});\n",
              "      } catch (error) {\n",
              "        console.error('Error during call to suggestCharts:', error);\n",
              "      }\n",
              "      quickchartButtonEl.classList.remove('colab-df-spinner');\n",
              "      quickchartButtonEl.classList.add('colab-df-quickchart-complete');\n",
              "    }\n",
              "    (() => {\n",
              "      let quickchartButtonEl =\n",
              "        document.querySelector('#df-b5b40347-b708-496f-b55a-80c73f561121 button');\n",
              "      quickchartButtonEl.style.display =\n",
              "        google.colab.kernel.accessAllowed ? 'block' : 'none';\n",
              "    })();\n",
              "  </script>\n",
              "</div>\n",
              "\n",
              "    </div>\n",
              "  </div>\n"
            ],
            "application/vnd.google.colaboratory.intrinsic+json": {
              "type": "dataframe",
              "summary": "{\n  \"name\": \"df\",\n  \"rows\": 8,\n  \"fields\": [\n    {\n      \"column\": \"person_age\",\n      \"properties\": {\n        \"dtype\": \"number\",\n        \"std\": 20721.261006641074,\n        \"min\": 6.033215771226305,\n        \"max\": 58645.0,\n        \"num_unique_values\": 8,\n        \"samples\": [\n          27.550856850541393,\n          26.0,\n          58645.0\n        ],\n        \"semantic_type\": \"\",\n        \"description\": \"\"\n      }\n    },\n    {\n      \"column\": \"person_income\",\n      \"properties\": {\n        \"dtype\": \"number\",\n        \"std\": 654915.9616922975,\n        \"min\": 4200.0,\n        \"max\": 1900000.0,\n        \"num_unique_values\": 8,\n        \"samples\": [\n          64046.17287066246,\n          58000.0,\n          58645.0\n        ],\n        \"semantic_type\": \"\",\n        \"description\": \"\"\n      }\n    },\n    {\n      \"column\": \"person_emp_length\",\n      \"properties\": {\n        \"dtype\": \"number\",\n        \"std\": 20726.87432045951,\n        \"min\": 0.0,\n        \"max\": 58645.0,\n        \"num_unique_values\": 8,\n        \"samples\": [\n          4.701014579248017,\n          4.0,\n          58645.0\n        ],\n        \"semantic_type\": \"\",\n        \"description\": \"\"\n      }\n    },\n    {\n      \"column\": \"loan_amnt\",\n      \"properties\": {\n        \"dtype\": \"number\",\n        \"std\": 19897.49250987335,\n        \"min\": 500.0,\n        \"max\": 58645.0,\n        \"num_unique_values\": 8,\n        \"samples\": [\n          9217.556518032228,\n          8000.0,\n          58645.0\n        ],\n        \"semantic_type\": \"\",\n        \"description\": \"\"\n      }\n    },\n    {\n      \"column\": \"loan_int_rate\",\n      \"properties\": {\n        \"dtype\": \"number\",\n        \"std\": 20730.40329593108,\n        \"min\": 3.0346972031377084,\n        \"max\": 58645.0,\n        \"num_unique_values\": 8,\n        \"samples\": [\n          10.67787449910478,\n          10.75,\n          58645.0\n        ],\n        \"semantic_type\": \"\",\n        \"description\": \"\"\n      }\n    },\n    {\n      \"column\": \"loan_percent_income\",\n      \"properties\": {\n        \"dtype\": \"number\",\n        \"std\": 20734.061774410555,\n        \"min\": 0.0,\n        \"max\": 58645.0,\n        \"num_unique_values\": 8,\n        \"samples\": [\n          0.15923751385454857,\n          0.14,\n          58645.0\n        ],\n        \"semantic_type\": \"\",\n        \"description\": \"\"\n      }\n    },\n    {\n      \"column\": \"cb_person_cred_hist_length\",\n      \"properties\": {\n        \"dtype\": \"number\",\n        \"std\": 20731.269602143937,\n        \"min\": 2.0,\n        \"max\": 58645.0,\n        \"num_unique_values\": 8,\n        \"samples\": [\n          5.813556142893682,\n          4.0,\n          58645.0\n        ],\n        \"semantic_type\": \"\",\n        \"description\": \"\"\n      }\n    },\n    {\n      \"column\": \"loan_status\",\n      \"properties\": {\n        \"dtype\": \"number\",\n        \"std\": 20734.06324555349,\n        \"min\": 0.0,\n        \"max\": 58645.0,\n        \"num_unique_values\": 5,\n        \"samples\": [\n          0.14238212976383324,\n          1.0,\n          0.3494446180776064\n        ],\n        \"semantic_type\": \"\",\n        \"description\": \"\"\n      }\n    }\n  ]\n}"
            }
          },
          "metadata": {},
          "execution_count": 14
        }
      ]
    },
    {
      "cell_type": "markdown",
      "source": [
        "## Feature Engineering"
      ],
      "metadata": {
        "id": "40Y64CVHqH0q"
      }
    },
    {
      "cell_type": "code",
      "source": [
        "df = pd.get_dummies(df, columns=['person_home_ownership', 'cb_person_default_on_file'], drop_first=True)\n",
        "dt = pd.get_dummies(dt, columns=['person_home_ownership', 'cb_person_default_on_file'], drop_first=True)"
      ],
      "metadata": {
        "id": "MWqGRlxIlMPV"
      },
      "execution_count": null,
      "outputs": []
    },
    {
      "cell_type": "code",
      "source": [
        "from sklearn.preprocessing import LabelEncoder\n",
        "\n",
        "le = LabelEncoder()\n",
        "df['loan_intent'] = le.fit_transform(df['loan_intent'])\n",
        "dt['loan_intent'] = le.transform(dt['loan_intent'])"
      ],
      "metadata": {
        "id": "BrdAZ15JnF2K"
      },
      "execution_count": null,
      "outputs": []
    },
    {
      "cell_type": "code",
      "source": [
        "loan_grade_mapping = {\n",
        "    'A': 7,\n",
        "    'B': 6,\n",
        "    'C': 5,\n",
        "    'D': 4,\n",
        "    'E': 3,\n",
        "    'F': 2,\n",
        "    'G': 1\n",
        "}\n",
        "\n",
        "df['loan_grade'] = df['loan_grade'].map(loan_grade_mapping)\n",
        "dt['loan_grade'] = dt['loan_grade'].map(loan_grade_mapping)"
      ],
      "metadata": {
        "id": "mRAv_a-pnm6Y"
      },
      "execution_count": null,
      "outputs": []
    },
    {
      "cell_type": "markdown",
      "source": [
        "## Data Treatment 1 : Standard Scaling w/o New Features"
      ],
      "metadata": {
        "id": "_r7oqV7MqaKD"
      }
    },
    {
      "cell_type": "code",
      "source": [
        "from sklearn.preprocessing import StandardScaler\n",
        "\n",
        "df_1 = df.copy()\n",
        "dt_1 = dt.copy()\n",
        "scaler = StandardScaler()\n",
        "df_1[numerical_features] = scaler.fit_transform(df[numerical_features])\n",
        "dt_1[numerical_features] = scaler.transform(dt[numerical_features])"
      ],
      "metadata": {
        "id": "Ysq_8ew1qXBG"
      },
      "execution_count": null,
      "outputs": []
    },
    {
      "cell_type": "code",
      "source": [
        "df_1.info()"
      ],
      "metadata": {
        "colab": {
          "base_uri": "https://localhost:8080/"
        },
        "id": "NwKLkcG6zGBx",
        "outputId": "b2b82c4f-403d-43f4-9ad2-6ec34d2aeda0"
      },
      "execution_count": null,
      "outputs": [
        {
          "output_type": "stream",
          "name": "stdout",
          "text": [
            "<class 'pandas.core.frame.DataFrame'>\n",
            "RangeIndex: 58645 entries, 0 to 58644\n",
            "Data columns (total 14 columns):\n",
            " #   Column                       Non-Null Count  Dtype  \n",
            "---  ------                       --------------  -----  \n",
            " 0   person_age                   58645 non-null  float64\n",
            " 1   person_income                58645 non-null  float64\n",
            " 2   person_emp_length            58645 non-null  float64\n",
            " 3   loan_intent                  58645 non-null  int64  \n",
            " 4   loan_grade                   58645 non-null  int64  \n",
            " 5   loan_amnt                    58645 non-null  float64\n",
            " 6   loan_int_rate                58645 non-null  float64\n",
            " 7   loan_percent_income          58645 non-null  float64\n",
            " 8   cb_person_cred_hist_length   58645 non-null  float64\n",
            " 9   loan_status                  58645 non-null  int64  \n",
            " 10  person_home_ownership_OTHER  58645 non-null  bool   \n",
            " 11  person_home_ownership_OWN    58645 non-null  bool   \n",
            " 12  person_home_ownership_RENT   58645 non-null  bool   \n",
            " 13  cb_person_default_on_file_Y  58645 non-null  bool   \n",
            "dtypes: bool(4), float64(7), int64(3)\n",
            "memory usage: 4.7 MB\n"
          ]
        }
      ]
    },
    {
      "cell_type": "markdown",
      "source": [
        "## Data Treatment 2 : Standard Scaling + Log Transformation w/o New Features"
      ],
      "metadata": {
        "id": "if2yyqporvAV"
      }
    },
    {
      "cell_type": "code",
      "source": [
        "import numpy as np\n",
        "from sklearn.preprocessing import FunctionTransformer\n",
        "\n",
        "df_2 = df_1.copy()\n",
        "df_2['log_loan_percent_income'] = np.log1p(df['loan_percent_income'])\n",
        "df_2['log_person_income'] = np.log1p(df['person_income'])\n",
        "df_2['log_loan_amnt'] = np.log1p(df['loan_amnt'])\n",
        "\n",
        "dt_1['log_loan_percent_income'] = np.log1p(dt['loan_percent_income'])\n",
        "dt_1['log_person_income'] = np.log1p(dt['person_income'])\n",
        "dt_1['log_loan_amnt'] = np.log1p(dt['loan_amnt'])"
      ],
      "metadata": {
        "id": "VwaYO4oOr462"
      },
      "execution_count": null,
      "outputs": []
    },
    {
      "cell_type": "code",
      "source": [
        "df_2.info()"
      ],
      "metadata": {
        "colab": {
          "base_uri": "https://localhost:8080/"
        },
        "id": "6K7NUYdSzCes",
        "outputId": "1727c3ef-3f6b-496b-96a6-28ba81e047ea"
      },
      "execution_count": null,
      "outputs": [
        {
          "output_type": "stream",
          "name": "stdout",
          "text": [
            "<class 'pandas.core.frame.DataFrame'>\n",
            "RangeIndex: 58645 entries, 0 to 58644\n",
            "Data columns (total 17 columns):\n",
            " #   Column                       Non-Null Count  Dtype  \n",
            "---  ------                       --------------  -----  \n",
            " 0   person_age                   58645 non-null  float64\n",
            " 1   person_income                58645 non-null  float64\n",
            " 2   person_emp_length            58645 non-null  float64\n",
            " 3   loan_intent                  58645 non-null  int64  \n",
            " 4   loan_grade                   58645 non-null  int64  \n",
            " 5   loan_amnt                    58645 non-null  float64\n",
            " 6   loan_int_rate                58645 non-null  float64\n",
            " 7   loan_percent_income          58645 non-null  float64\n",
            " 8   cb_person_cred_hist_length   58645 non-null  float64\n",
            " 9   loan_status                  58645 non-null  int64  \n",
            " 10  person_home_ownership_OTHER  58645 non-null  bool   \n",
            " 11  person_home_ownership_OWN    58645 non-null  bool   \n",
            " 12  person_home_ownership_RENT   58645 non-null  bool   \n",
            " 13  cb_person_default_on_file_Y  58645 non-null  bool   \n",
            " 14  log_loan_percent_income      58645 non-null  float64\n",
            " 15  log_person_income            58645 non-null  float64\n",
            " 16  log_loan_amnt                58645 non-null  float64\n",
            "dtypes: bool(4), float64(10), int64(3)\n",
            "memory usage: 6.0 MB\n"
          ]
        }
      ]
    },
    {
      "cell_type": "markdown",
      "source": [
        "## Data Treatment 3: Standard Scaling w/ New Features"
      ],
      "metadata": {
        "id": "qiJyB2F8r01w"
      }
    },
    {
      "cell_type": "code",
      "source": [
        "df_3 = df_1.copy()"
      ],
      "metadata": {
        "id": "1tdRzv6Or5Q9"
      },
      "execution_count": null,
      "outputs": []
    },
    {
      "cell_type": "code",
      "source": [
        "df_3['debt_to_income_ratio'] = df['loan_amnt'] / df['person_income']\n",
        "df_3['cred_hist_to_age_ratio'] = df['cb_person_cred_hist_length'] / df['person_age']\n",
        "df_3['interest_to_income_ratio'] = (df['loan_amnt'] * df['loan_int_rate']) / df['person_income']\n",
        "df_3['loan_amnt_x_loan_int_rate'] = df['loan_amnt'] * df['loan_int_rate']\n",
        "df_3['income_x_grade'] = df['person_income'] * df['loan_grade']"
      ],
      "metadata": {
        "id": "5MOshzEKt5FJ"
      },
      "execution_count": null,
      "outputs": []
    },
    {
      "cell_type": "code",
      "source": [
        "new_scaled = ['debt_to_income_ratio', 'cred_hist_to_age_ratio', 'interest_to_income_ratio', 'loan_amnt_x_loan_int_rate', 'income_x_grade']"
      ],
      "metadata": {
        "id": "Yqh0hvqozpTo"
      },
      "execution_count": null,
      "outputs": []
    },
    {
      "cell_type": "code",
      "source": [
        "df_3[new_scaled] = scaler.fit_transform(df_3[new_scaled])"
      ],
      "metadata": {
        "id": "xwz42t830MHv"
      },
      "execution_count": null,
      "outputs": []
    },
    {
      "cell_type": "code",
      "source": [
        "df_3.info()"
      ],
      "metadata": {
        "colab": {
          "base_uri": "https://localhost:8080/"
        },
        "id": "kJ-AoFWsysxc",
        "outputId": "746f9890-466c-462c-d797-a8fda8b2fc94"
      },
      "execution_count": null,
      "outputs": [
        {
          "output_type": "stream",
          "name": "stdout",
          "text": [
            "<class 'pandas.core.frame.DataFrame'>\n",
            "RangeIndex: 58645 entries, 0 to 58644\n",
            "Data columns (total 19 columns):\n",
            " #   Column                       Non-Null Count  Dtype  \n",
            "---  ------                       --------------  -----  \n",
            " 0   person_age                   58645 non-null  float64\n",
            " 1   person_income                58645 non-null  float64\n",
            " 2   person_emp_length            58645 non-null  float64\n",
            " 3   loan_intent                  58645 non-null  int64  \n",
            " 4   loan_grade                   58645 non-null  int64  \n",
            " 5   loan_amnt                    58645 non-null  float64\n",
            " 6   loan_int_rate                58645 non-null  float64\n",
            " 7   loan_percent_income          58645 non-null  float64\n",
            " 8   cb_person_cred_hist_length   58645 non-null  float64\n",
            " 9   loan_status                  58645 non-null  int64  \n",
            " 10  person_home_ownership_OTHER  58645 non-null  bool   \n",
            " 11  person_home_ownership_OWN    58645 non-null  bool   \n",
            " 12  person_home_ownership_RENT   58645 non-null  bool   \n",
            " 13  cb_person_default_on_file_Y  58645 non-null  bool   \n",
            " 14  debt_to_income_ratio         58645 non-null  float64\n",
            " 15  cred_hist_to_age_ratio       58645 non-null  float64\n",
            " 16  interest_to_income_ratio     58645 non-null  float64\n",
            " 17  loan_amnt_x_loan_int_rate    58645 non-null  float64\n",
            " 18  income_x_grade               58645 non-null  float64\n",
            "dtypes: bool(4), float64(12), int64(3)\n",
            "memory usage: 6.9 MB\n"
          ]
        }
      ]
    },
    {
      "cell_type": "markdown",
      "source": [
        "## Data Treatment 4 : Standard Scaling + Log Transformation w/ New Features"
      ],
      "metadata": {
        "id": "G_9ixj2Cr4iD"
      }
    },
    {
      "cell_type": "code",
      "source": [
        "df_4 = df_2.copy()"
      ],
      "metadata": {
        "id": "9kdVFWQktwtb"
      },
      "execution_count": null,
      "outputs": []
    },
    {
      "cell_type": "code",
      "source": [
        "df_4['debt_to_income_ratio'] = df['loan_amnt'] / df['person_income']\n",
        "df_4['cred_hist_to_age_ratio'] = df['cb_person_cred_hist_length'] / df['person_age']\n",
        "df_4['interest_to_income_ratio'] = (df['loan_amnt'] * df['loan_int_rate']) / df['person_income']\n",
        "df_4['loan_amnt_x_loan_int_rate'] = df['loan_amnt'] * df['loan_int_rate']\n",
        "df_4['income_x_grade'] = df['person_income'] * df['loan_grade']\n",
        "\n",
        "dt_1['debt_to_income_ratio'] = dt['loan_amnt'] / dt['person_income']\n",
        "dt_1['cred_hist_to_age_ratio'] = dt['cb_person_cred_hist_length'] / dt['person_age']\n",
        "dt_1['interest_to_income_ratio'] = (dt['loan_amnt'] * dt['loan_int_rate']) / dt['person_income']\n",
        "dt_1['loan_amnt_x_loan_int_rate'] = dt['loan_amnt'] * dt['loan_int_rate']\n",
        "dt_1['income_x_grade'] = dt['person_income'] * dt['loan_grade']"
      ],
      "metadata": {
        "id": "yzVomZG-zYe-"
      },
      "execution_count": null,
      "outputs": []
    },
    {
      "cell_type": "code",
      "source": [
        "df_4['log_debt_to_income_ratio'] = np.log1p(df_4['debt_to_income_ratio'])\n",
        "df_4['log_cred_hist_to_age_ratio'] = np.log1p(df_4['cred_hist_to_age_ratio'])\n",
        "df_4['log_interest_to_income_ratio'] = np.log1p(df_4['interest_to_income_ratio'])\n",
        "df_4['log_loan_amnt_x_loan_int_rate'] = np.log1p(df_4['loan_amnt_x_loan_int_rate'])\n",
        "df_4['log_income_x_grade'] = np.log1p(df_4['income_x_grade'])\n",
        "\n",
        "dt_1['log_debt_to_income_ratio'] = np.log1p(dt_1['debt_to_income_ratio'])\n",
        "dt_1['log_cred_hist_to_age_ratio'] = np.log1p(dt_1['cred_hist_to_age_ratio'])\n",
        "dt_1['log_interest_to_income_ratio'] = np.log1p(dt_1['interest_to_income_ratio'])\n",
        "dt_1['log_loan_amnt_x_loan_int_rate'] = np.log1p(dt_1['loan_amnt_x_loan_int_rate'])\n",
        "dt_1['log_income_x_grade'] = np.log1p(dt_1['income_x_grade'])"
      ],
      "metadata": {
        "id": "hl9UHhjpzaTG"
      },
      "execution_count": null,
      "outputs": []
    },
    {
      "cell_type": "code",
      "source": [
        "df_4[new_scaled] = scaler.fit_transform(df_4[new_scaled])\n",
        "dt_1[new_scaled] = scaler.transform(dt_1[new_scaled])"
      ],
      "metadata": {
        "id": "NSAkQMn-1W-q"
      },
      "execution_count": null,
      "outputs": []
    },
    {
      "cell_type": "code",
      "source": [
        "df_4.info()"
      ],
      "metadata": {
        "colab": {
          "base_uri": "https://localhost:8080/"
        },
        "id": "owHdTPLl1awP",
        "outputId": "695f5f37-28e3-4430-e639-b2298105d7ad"
      },
      "execution_count": null,
      "outputs": [
        {
          "output_type": "stream",
          "name": "stdout",
          "text": [
            "<class 'pandas.core.frame.DataFrame'>\n",
            "RangeIndex: 58645 entries, 0 to 58644\n",
            "Data columns (total 27 columns):\n",
            " #   Column                         Non-Null Count  Dtype  \n",
            "---  ------                         --------------  -----  \n",
            " 0   person_age                     58645 non-null  float64\n",
            " 1   person_income                  58645 non-null  float64\n",
            " 2   person_emp_length              58645 non-null  float64\n",
            " 3   loan_intent                    58645 non-null  int64  \n",
            " 4   loan_grade                     58645 non-null  int64  \n",
            " 5   loan_amnt                      58645 non-null  float64\n",
            " 6   loan_int_rate                  58645 non-null  float64\n",
            " 7   loan_percent_income            58645 non-null  float64\n",
            " 8   cb_person_cred_hist_length     58645 non-null  float64\n",
            " 9   loan_status                    58645 non-null  int64  \n",
            " 10  person_home_ownership_OTHER    58645 non-null  bool   \n",
            " 11  person_home_ownership_OWN      58645 non-null  bool   \n",
            " 12  person_home_ownership_RENT     58645 non-null  bool   \n",
            " 13  cb_person_default_on_file_Y    58645 non-null  bool   \n",
            " 14  log_loan_percent_income        58645 non-null  float64\n",
            " 15  log_person_income              58645 non-null  float64\n",
            " 16  log_loan_amnt                  58645 non-null  float64\n",
            " 17  debt_to_income_ratio           58645 non-null  float64\n",
            " 18  cred_hist_to_age_ratio         58645 non-null  float64\n",
            " 19  interest_to_income_ratio       58645 non-null  float64\n",
            " 20  loan_amnt_x_loan_int_rate      58645 non-null  float64\n",
            " 21  income_x_grade                 58645 non-null  float64\n",
            " 22  log_debt_to_income_ratio       58645 non-null  float64\n",
            " 23  log_cred_hist_to_age_ratio     58645 non-null  float64\n",
            " 24  log_interest_to_income_ratio   58645 non-null  float64\n",
            " 25  log_loan_amnt_x_loan_int_rate  58645 non-null  float64\n",
            " 26  log_income_x_grade             58645 non-null  float64\n",
            "dtypes: bool(4), float64(20), int64(3)\n",
            "memory usage: 10.5 MB\n"
          ]
        }
      ]
    },
    {
      "cell_type": "code",
      "source": [
        "dt_1.info()"
      ],
      "metadata": {
        "colab": {
          "base_uri": "https://localhost:8080/"
        },
        "id": "pQKirxLKXVu8",
        "outputId": "9eb5d202-7fb5-4b76-fcf5-3842ce7196c0"
      },
      "execution_count": null,
      "outputs": [
        {
          "output_type": "stream",
          "name": "stdout",
          "text": [
            "<class 'pandas.core.frame.DataFrame'>\n",
            "RangeIndex: 39098 entries, 0 to 39097\n",
            "Data columns (total 26 columns):\n",
            " #   Column                         Non-Null Count  Dtype  \n",
            "---  ------                         --------------  -----  \n",
            " 0   person_age                     39098 non-null  float64\n",
            " 1   person_income                  39098 non-null  float64\n",
            " 2   person_emp_length              39098 non-null  float64\n",
            " 3   loan_intent                    39098 non-null  int64  \n",
            " 4   loan_grade                     39098 non-null  int64  \n",
            " 5   loan_amnt                      39098 non-null  float64\n",
            " 6   loan_int_rate                  39098 non-null  float64\n",
            " 7   loan_percent_income            39098 non-null  float64\n",
            " 8   cb_person_cred_hist_length     39098 non-null  float64\n",
            " 9   person_home_ownership_OTHER    39098 non-null  bool   \n",
            " 10  person_home_ownership_OWN      39098 non-null  bool   \n",
            " 11  person_home_ownership_RENT     39098 non-null  bool   \n",
            " 12  cb_person_default_on_file_Y    39098 non-null  bool   \n",
            " 13  log_loan_percent_income        39098 non-null  float64\n",
            " 14  log_person_income              39098 non-null  float64\n",
            " 15  log_loan_amnt                  39098 non-null  float64\n",
            " 16  debt_to_income_ratio           39098 non-null  float64\n",
            " 17  cred_hist_to_age_ratio         39098 non-null  float64\n",
            " 18  interest_to_income_ratio       39098 non-null  float64\n",
            " 19  loan_amnt_x_loan_int_rate      39098 non-null  float64\n",
            " 20  income_x_grade                 39098 non-null  float64\n",
            " 21  log_debt_to_income_ratio       39098 non-null  float64\n",
            " 22  log_cred_hist_to_age_ratio     39098 non-null  float64\n",
            " 23  log_interest_to_income_ratio   39098 non-null  float64\n",
            " 24  log_loan_amnt_x_loan_int_rate  39098 non-null  float64\n",
            " 25  log_income_x_grade             39098 non-null  float64\n",
            "dtypes: bool(4), float64(20), int64(2)\n",
            "memory usage: 6.7 MB\n"
          ]
        }
      ]
    },
    {
      "cell_type": "code",
      "source": [
        "X = df_4.drop('loan_status', axis=1)\n",
        "y = df_4['loan_status']\n",
        "\n",
        "X_train, X_test, y_train, y_test = train_test_split(X, y, test_size=0.2, random_state=42)\n",
        "print(X_train.shape, X_test.shape, y_train.shape, y_test.shape)"
      ],
      "metadata": {
        "colab": {
          "base_uri": "https://localhost:8080/"
        },
        "id": "bmsRvUqQ2UFF",
        "outputId": "45367a28-505e-4564-8f77-0def248c7932"
      },
      "execution_count": null,
      "outputs": [
        {
          "output_type": "stream",
          "name": "stdout",
          "text": [
            "(46916, 26) (11729, 26) (46916,) (11729,)\n"
          ]
        }
      ]
    },
    {
      "cell_type": "code",
      "source": [
        "model_scores = {}"
      ],
      "metadata": {
        "id": "_a72gfeC3thy"
      },
      "execution_count": null,
      "outputs": []
    },
    {
      "cell_type": "markdown",
      "source": [
        "## 1. Train a KNN Classifier"
      ],
      "metadata": {
        "id": "19dHs7ZprqHd"
      }
    },
    {
      "cell_type": "code",
      "source": [
        "# put your answer here\n",
        "from sklearn.model_selection import cross_val_score\n",
        "from sklearn.metrics import accuracy_score, classification_report, confusion_matrix\n",
        "\n",
        "'''score = []\n",
        "k_range = list(range(1, 100))\n",
        "best_k = 0\n",
        "best_score = float('-inf')\n",
        "\n",
        "for k in k_range:\n",
        "  knn_model = KNeighborsClassifier(n_neighbors=k)\n",
        "  knn_model.fit(X_train, y_train) # Train Model\n",
        "\n",
        "  y_pred = knn_model.predict(X_test) # Predict labels for test set\n",
        "  if knn_model.score(X_test, y_test) > best_score:\n",
        "    best_score = knn_model.score(X_test, y_test)\n",
        "    best_k = k\n",
        "    print(f\"Best model - k = {k}, Accuracy: {best_score}\")\n",
        "\n",
        "  score.append(knn_model.score(X_test, y_test))\n",
        "'''\n",
        "knn_model = KNeighborsClassifier(n_neighbors=15)\n",
        "knn_model.fit(X_train, y_train)\n",
        "y_pred = knn_model.predict(X_test)\n",
        "print(classification_report(y_test, y_pred))\n",
        "print(confusion_matrix(y_test, y_pred))"
      ],
      "metadata": {
        "id": "sfo3q7hjru-k",
        "colab": {
          "base_uri": "https://localhost:8080/"
        },
        "outputId": "015b5bdc-d72f-4ae3-d9df-3e21da2d8f02"
      },
      "execution_count": null,
      "outputs": [
        {
          "output_type": "stream",
          "name": "stdout",
          "text": [
            "              precision    recall  f1-score   support\n",
            "\n",
            "           0       0.94      0.98      0.96     10087\n",
            "           1       0.84      0.61      0.70      1642\n",
            "\n",
            "    accuracy                           0.93     11729\n",
            "   macro avg       0.89      0.79      0.83     11729\n",
            "weighted avg       0.92      0.93      0.92     11729\n",
            "\n",
            "[[9893  194]\n",
            " [ 643  999]]\n"
          ]
        }
      ]
    },
    {
      "cell_type": "markdown",
      "source": [
        "- Perform cross validation"
      ],
      "metadata": {
        "id": "lqPzPhIs0zjf"
      }
    },
    {
      "cell_type": "code",
      "source": [
        "# put your answer here\n",
        "knn_score = cross_val_score(knn_model, X, y, cv=5)\n",
        "print(knn_score)\n",
        "print(knn_score.mean())\n",
        "print(knn_score.std())"
      ],
      "metadata": {
        "id": "Xz-BV38o04PL",
        "colab": {
          "base_uri": "https://localhost:8080/"
        },
        "outputId": "df9a718d-8406-4f4d-893d-f5c81ee4f8d1"
      },
      "execution_count": null,
      "outputs": [
        {
          "output_type": "stream",
          "name": "stdout",
          "text": [
            "[0.9241197  0.92582488 0.92667747 0.92676272 0.92753005]\n",
            "0.9261829652996845\n",
            "0.0011645235623813776\n"
          ]
        }
      ]
    },
    {
      "cell_type": "code",
      "source": [
        "model_scores['knn'] = knn_score.mean()"
      ],
      "metadata": {
        "id": "zRpWX_IBadJ4"
      },
      "execution_count": null,
      "outputs": []
    },
    {
      "cell_type": "markdown",
      "source": [
        "## 2. Train a Logistic Regression Classifier"
      ],
      "metadata": {
        "id": "9iQFaBrfzNmM"
      }
    },
    {
      "cell_type": "code",
      "source": [
        "# put your answer here\n",
        "from sklearn.model_selection import GridSearchCV, RandomizedSearchCV\n",
        "\n",
        "'''# Define the parameter grid for Logistic Regression\n",
        "param_grid = {\n",
        "    'C': [0.01, 0.1, 1, 10, 100],\n",
        "    'penalty': ['l1', 'l2', 'elasticnet', 'none'],\n",
        "    'solver': ['liblinear', 'saga', 'lbfgs'],  # Depending on the penalty type\n",
        "    'max_iter': [100, 200, 300]\n",
        "}\n",
        "param_grid = {\n",
        "    'C': [0.1, 1, 10],\n",
        "    'penalty': ['l2'],\n",
        "    'solver': ['liblinear'],\n",
        "    'max_iter': [100]\n",
        "}\n",
        "# Initialize Logistic Regression classifier\n",
        "lr = LogisticRegression()\n",
        "\n",
        "# Initialize GridSearchCV\n",
        "grid_search = GridSearchCV(estimator=lr, param_grid=param_grid, cv=5, scoring='accuracy')\n",
        "\n",
        "# Fit the model\n",
        "grid_search.fit(X_train, y_train)\n",
        "\n",
        "# Print the best parameters\n",
        "print(grid_search.best_params_)\n",
        "print(grid_search.best_score_)'''\n",
        "lr = LogisticRegression(C=0.1, max_iter=100, penalty='l2', solver='liblinear')\n",
        "lr.fit(X_train, y_train)\n",
        "y_pred = lr.predict(X_test)\n",
        "\n",
        "print(accuracy_score(y_test, y_pred))\n",
        "print(classification_report(y_test, y_pred))\n",
        "print(confusion_matrix(y_test, y_pred))"
      ],
      "metadata": {
        "id": "LaiPKRnRzN3P",
        "colab": {
          "base_uri": "https://localhost:8080/"
        },
        "outputId": "7ae67b09-3769-4b98-edd8-b4135e0daca5"
      },
      "execution_count": null,
      "outputs": [
        {
          "output_type": "stream",
          "name": "stdout",
          "text": [
            "0.9103930428851564\n",
            "              precision    recall  f1-score   support\n",
            "\n",
            "           0       0.92      0.98      0.95     10087\n",
            "           1       0.78      0.50      0.61      1642\n",
            "\n",
            "    accuracy                           0.91     11729\n",
            "   macro avg       0.85      0.74      0.78     11729\n",
            "weighted avg       0.90      0.91      0.90     11729\n",
            "\n",
            "[[9855  232]\n",
            " [ 819  823]]\n"
          ]
        }
      ]
    },
    {
      "cell_type": "markdown",
      "source": [
        "- Perform cross validation"
      ],
      "metadata": {
        "id": "sj2wlK-4044w"
      }
    },
    {
      "cell_type": "code",
      "source": [
        "# put your answer here\n",
        "lr_score = cross_val_score(lr, X, y, cv=5)\n",
        "print(lr_score)\n",
        "print(lr_score.mean())\n",
        "print(lr_score.std())"
      ],
      "metadata": {
        "id": "LaPPbhEb0740",
        "colab": {
          "base_uri": "https://localhost:8080/"
        },
        "outputId": "0dfce87d-39fd-4123-deaa-f4ec534f4a80"
      },
      "execution_count": null,
      "outputs": [
        {
          "output_type": "stream",
          "name": "stdout",
          "text": [
            "[0.90817632 0.90561855 0.90962571 0.90979623 0.9090289 ]\n",
            "0.9084491431494586\n",
            "0.0015245830299092673\n"
          ]
        }
      ]
    },
    {
      "cell_type": "code",
      "source": [
        "model_scores['lr'] = lr_score.mean()"
      ],
      "metadata": {
        "id": "xEyQ2-5hagq5"
      },
      "execution_count": null,
      "outputs": []
    },
    {
      "cell_type": "markdown",
      "source": [
        "## 3. Train a Naive Bayes Classifier"
      ],
      "metadata": {
        "id": "MK7R5QHszVir"
      }
    },
    {
      "cell_type": "code",
      "source": [
        "# put your answer here\n",
        "# Define the parameter grid for Naive Bayes (Gaussian)\n",
        "\n",
        "nb = GaussianNB(var_smoothing=1e-09)\n",
        "nb.fit(X_train, y_train)\n",
        "y_pred = nb.predict(X_test)\n",
        "\n",
        "print(accuracy_score(y_test, y_pred))\n",
        "print(classification_report(y_test, y_pred))\n",
        "print(confusion_matrix(y_test, y_pred))"
      ],
      "metadata": {
        "id": "wh3rW-_SzV1a",
        "colab": {
          "base_uri": "https://localhost:8080/"
        },
        "outputId": "9030004d-257d-4880-b113-f0a54918323e"
      },
      "execution_count": null,
      "outputs": [
        {
          "output_type": "stream",
          "name": "stdout",
          "text": [
            "0.8145621962656663\n",
            "              precision    recall  f1-score   support\n",
            "\n",
            "           0       0.95      0.82      0.88     10087\n",
            "           1       0.41      0.75      0.53      1642\n",
            "\n",
            "    accuracy                           0.81     11729\n",
            "   macro avg       0.68      0.79      0.71     11729\n",
            "weighted avg       0.88      0.81      0.84     11729\n",
            "\n",
            "[[8317 1770]\n",
            " [ 405 1237]]\n"
          ]
        }
      ]
    },
    {
      "cell_type": "markdown",
      "source": [
        "- Perform cross validation"
      ],
      "metadata": {
        "id": "r1s7wlRE0-6r"
      }
    },
    {
      "cell_type": "code",
      "source": [
        "# put your answer here\n",
        "nb_score = cross_val_score(nb, X, y, cv=5)\n",
        "print(nb_score)\n",
        "print(nb_score.mean())\n",
        "print(nb_score.std())"
      ],
      "metadata": {
        "id": "Czj8xzAa0_Nt",
        "colab": {
          "base_uri": "https://localhost:8080/"
        },
        "outputId": "62141905-bcdb-41e1-8848-51a166c95de8"
      },
      "execution_count": null,
      "outputs": [
        {
          "output_type": "stream",
          "name": "stdout",
          "text": [
            "[0.81865462 0.82215023 0.82300281 0.81865462 0.82027453]\n",
            "0.8205473612413675\n",
            "0.0017797651350521207\n"
          ]
        }
      ]
    },
    {
      "cell_type": "code",
      "source": [
        "model_scores['nb'] = nb_score.mean()"
      ],
      "metadata": {
        "id": "em82uqFPak3Y"
      },
      "execution_count": null,
      "outputs": []
    },
    {
      "cell_type": "markdown",
      "source": [
        "## 4. Train a SVM Classifier"
      ],
      "metadata": {
        "id": "GlMLKDF_rvUM"
      }
    },
    {
      "cell_type": "code",
      "source": [
        "# put your answer here\n",
        "'''param_grid = {\n",
        "    'C': [0.1, 1, 10, 100],\n",
        "    'kernel': ['linear', 'rbf', 'poly'],\n",
        "    'gamma': ['scale', 'auto'],\n",
        "    'degree': [2, 3, 4],  # Only applicable for poly kernel\n",
        "}'''\n",
        "\n",
        "'''param_grid = {\n",
        "    'C': [0.1, 1, 10],  # Reasonable small set of regularization values\n",
        "    'kernel': ['linear', 'rbf'],  # Limiting to linear and RBF as the most effective kernels\n",
        "    'gamma': ['scale'],  # Use 'scale' as it's automatic and works well in most cases\n",
        "}'''\n",
        "svm = SVC(C = 100, gamma = 'scale', kernel = 'rbf')\n",
        "svm.fit(X_train, y_train)\n",
        "y_pred = svm.predict(X_test)\n",
        "\n",
        "print(accuracy_score(y_test, y_pred))\n",
        "print(classification_report(y_test, y_pred))\n",
        "print(confusion_matrix(y_test, y_pred))"
      ],
      "metadata": {
        "id": "0MJX8VBysFxR",
        "colab": {
          "base_uri": "https://localhost:8080/"
        },
        "outputId": "a4de2e43-3887-4426-c32c-d4ddd2d377ce"
      },
      "execution_count": null,
      "outputs": [
        {
          "output_type": "stream",
          "name": "stdout",
          "text": [
            "0.9258248785062665\n",
            "              precision    recall  f1-score   support\n",
            "\n",
            "           0       0.94      0.98      0.96     10087\n",
            "           1       0.83      0.59      0.69      1642\n",
            "\n",
            "    accuracy                           0.93     11729\n",
            "   macro avg       0.88      0.78      0.82     11729\n",
            "weighted avg       0.92      0.93      0.92     11729\n",
            "\n",
            "[[9895  192]\n",
            " [ 678  964]]\n"
          ]
        }
      ]
    },
    {
      "cell_type": "markdown",
      "source": [
        "- Perform cross validation"
      ],
      "metadata": {
        "id": "-wzEMe9J1DSe"
      }
    },
    {
      "cell_type": "code",
      "source": [
        "# put your answer here\n",
        "svm_score = cross_val_score(svm, X, y, cv=5)\n",
        "print(svm_score)\n",
        "print(svm_score.mean())\n",
        "print(svm_score.std())"
      ],
      "metadata": {
        "id": "dPJlm2S-1Dqe",
        "colab": {
          "base_uri": "https://localhost:8080/"
        },
        "outputId": "8aedb795-4aa0-4219-e1f2-479e5cfdd5a1"
      },
      "execution_count": null,
      "outputs": [
        {
          "output_type": "stream",
          "name": "stdout",
          "text": [
            "[0.92232927 0.9230966  0.92284082 0.92514281 0.92403444]\n",
            "0.9234887884730156\n",
            "0.0009951563789864588\n"
          ]
        }
      ]
    },
    {
      "cell_type": "code",
      "source": [
        "model_scores['svm'] = svm_score.mean()"
      ],
      "metadata": {
        "id": "qA6XutTaapxA"
      },
      "execution_count": null,
      "outputs": []
    },
    {
      "cell_type": "markdown",
      "source": [
        "## 5. Train a Decision Tree Classifier"
      ],
      "metadata": {
        "id": "8n-ScOLqze60"
      }
    },
    {
      "cell_type": "code",
      "source": [
        "# put your answer here\n",
        "'''param_grid = {\n",
        "    'max_depth': [None, 10, 15, 20],\n",
        "    'min_samples_split': [2, 5, 10],\n",
        "    'min_samples_leaf': [1, 2, 4],\n",
        "    'criterion': ['gini', 'entropy'],\n",
        "    'splitter': ['best', 'random']\n",
        "}'''\n",
        "\n",
        "dt = DecisionTreeClassifier(criterion='gini', max_depth=10, min_samples_leaf=1, min_samples_split=10, splitter='best')\n",
        "dt.fit(X_train, y_train)\n",
        "y_pred = dt.predict(X_test)\n",
        "\n",
        "print(accuracy_score(y_test, y_pred))\n",
        "print(classification_report(y_test, y_pred))\n",
        "print(confusion_matrix(y_test, y_pred))"
      ],
      "metadata": {
        "id": "fqLNJkoHzfL4",
        "colab": {
          "base_uri": "https://localhost:8080/"
        },
        "outputId": "4c3f3ea7-268b-4767-e11d-d5b79d4947ee"
      },
      "execution_count": null,
      "outputs": [
        {
          "output_type": "stream",
          "name": "stdout",
          "text": [
            "0.9462869809872965\n",
            "              precision    recall  f1-score   support\n",
            "\n",
            "           0       0.95      0.99      0.97     10087\n",
            "           1       0.90      0.69      0.78      1642\n",
            "\n",
            "    accuracy                           0.95     11729\n",
            "   macro avg       0.93      0.84      0.88     11729\n",
            "weighted avg       0.94      0.95      0.94     11729\n",
            "\n",
            "[[9965  122]\n",
            " [ 508 1134]]\n"
          ]
        }
      ]
    },
    {
      "cell_type": "markdown",
      "source": [
        "- Perform cross validation"
      ],
      "metadata": {
        "id": "5dkFpQ2j1GUO"
      }
    },
    {
      "cell_type": "code",
      "source": [
        "# put your answer here\n",
        "dt_score = cross_val_score(dt, X, y, cv=5)\n",
        "print(dt_score)\n",
        "print(dt_score.mean())\n",
        "print(dt_score.std())"
      ],
      "metadata": {
        "id": "hOXY4nc71Gk5",
        "colab": {
          "base_uri": "https://localhost:8080/"
        },
        "outputId": "bcf19838-9d25-41bc-c9c6-fee77c85845b"
      },
      "execution_count": null,
      "outputs": [
        {
          "output_type": "stream",
          "name": "stdout",
          "text": [
            "[0.94347344 0.94407025 0.94543439 0.9474806  0.94858897]\n",
            "0.9458095319294056\n",
            "0.001956572453221064\n"
          ]
        }
      ]
    },
    {
      "cell_type": "code",
      "source": [
        "model_scores['dt'] = dt_score.mean()"
      ],
      "metadata": {
        "id": "oa152yAOas87"
      },
      "execution_count": null,
      "outputs": []
    },
    {
      "cell_type": "markdown",
      "source": [
        "## 6. Train a Random Forest Classifier"
      ],
      "metadata": {
        "id": "MkJ6eVbNsBay"
      }
    },
    {
      "cell_type": "code",
      "source": [
        "# put your answer here\n",
        "'''param_grid = {\n",
        "    'n_estimators': [100, 200, 300],\n",
        "    'max_depth': [10, 20, 30, None],\n",
        "    'min_samples_split': [2, 5, 10],\n",
        "    'min_samples_leaf': [1, 2, 4],\n",
        "    'bootstrap': [True, False]\n",
        "}'''\n",
        "\n",
        "'''param_grid = {\n",
        "    'n_estimators': [100, 200],  # A reduced set of estimators\n",
        "    'max_depth': [10, 20, None],  # Testing a couple of fixed depths and no limit\n",
        "    'min_samples_split': [2, 5],  # Common options for splitting\n",
        "    'min_samples_leaf': [1, 2],  # Reasonable leaf sizes\n",
        "    'bootstrap': [True]  # Stick with bootstrap (most common)\n",
        "}'''"
      ],
      "metadata": {
        "id": "w_LoDOYHsGo2",
        "colab": {
          "base_uri": "https://localhost:8080/",
          "height": 70
        },
        "outputId": "ff2dff54-67d7-499f-dcd8-e4372cab024c"
      },
      "execution_count": null,
      "outputs": [
        {
          "output_type": "execute_result",
          "data": {
            "text/plain": [
              "\"param_grid = {\\n    'n_estimators': [100, 200],  # A reduced set of estimators\\n    'max_depth': [10, 20, None],  # Testing a couple of fixed depths and no limit\\n    'min_samples_split': [2, 5],  # Common options for splitting\\n    'min_samples_leaf': [1, 2],  # Reasonable leaf sizes\\n    'bootstrap': [True]  # Stick with bootstrap (most common)\\n}\""
            ],
            "application/vnd.google.colaboratory.intrinsic+json": {
              "type": "string"
            }
          },
          "metadata": {},
          "execution_count": 53
        }
      ]
    },
    {
      "cell_type": "code",
      "source": [
        "rf = RandomForestClassifier(n_estimators = 200, max_depth = None, min_samples_leaf = 1, min_samples_split = 5, bootstrap = True)\n",
        "rf.fit(X_train, y_train)\n",
        "y_pred = rf.predict(X_test)\n",
        "\n",
        "print(accuracy_score(y_test, y_pred))\n",
        "print(classification_report(y_test, y_pred))\n",
        "print(confusion_matrix(y_test, y_pred))"
      ],
      "metadata": {
        "colab": {
          "base_uri": "https://localhost:8080/"
        },
        "id": "kOICUZt8BVit",
        "outputId": "09b26db1-d04e-41ec-f5ef-90fa400c751b"
      },
      "execution_count": null,
      "outputs": [
        {
          "output_type": "stream",
          "name": "stdout",
          "text": [
            "0.9471395685906727\n",
            "              precision    recall  f1-score   support\n",
            "\n",
            "           0       0.95      0.99      0.97     10087\n",
            "           1       0.90      0.70      0.79      1642\n",
            "\n",
            "    accuracy                           0.95     11729\n",
            "   macro avg       0.93      0.84      0.88     11729\n",
            "weighted avg       0.95      0.95      0.94     11729\n",
            "\n",
            "[[9957  130]\n",
            " [ 490 1152]]\n"
          ]
        }
      ]
    },
    {
      "cell_type": "code",
      "source": [
        "model_scores['rf'] = rf.score(X_test, y_test)"
      ],
      "metadata": {
        "id": "aWTg8bgRB9t9"
      },
      "execution_count": null,
      "outputs": []
    },
    {
      "cell_type": "markdown",
      "source": [
        "## 7. Compare all the performance of all classification models"
      ],
      "metadata": {
        "id": "3orhk-Vf0Jg-"
      }
    },
    {
      "cell_type": "code",
      "source": [
        "# put your answer here\n",
        "sorted_scores = {k: v for k, v in sorted(model_scores.items(), key=lambda item: item[1], reverse=True)}\n",
        "print(sorted_scores)"
      ],
      "metadata": {
        "id": "r5FUkgck0VY8",
        "colab": {
          "base_uri": "https://localhost:8080/"
        },
        "outputId": "1dbc2d98-c333-444e-fc36-5b260658ae0f"
      },
      "execution_count": null,
      "outputs": [
        {
          "output_type": "stream",
          "name": "stdout",
          "text": [
            "{'rf': 0.9471395685906727, 'dt': 0.9458095319294056, 'knn': 0.9261829652996845, 'svm': 0.9234887884730156, 'lr': 0.9084491431494586, 'nb': 0.8205473612413675}\n"
          ]
        }
      ]
    },
    {
      "cell_type": "markdown",
      "source": [
        "## 9. Generate Submission File\n",
        "\n",
        "Choose the model that has the best performance to generate a submission file."
      ],
      "metadata": {
        "id": "a6UAAMyepmHi"
      }
    },
    {
      "cell_type": "code",
      "source": [
        "#id = sf.pop('id')\n",
        "y_pred = rf.predict(dt_1)\n",
        "\n",
        "# Create a submission DataFrame\n",
        "submission_df = pd.DataFrame({\n",
        "    'id': id,\n",
        "    'loan_status': y_pred\n",
        "})\n",
        "\n",
        "# Save the submission DataFrame to a CSV file\n",
        "submission_df.to_csv('submission_file.csv', index=False)\n",
        "print(\"Submission file created: submission_file.csv\")"
      ],
      "metadata": {
        "id": "HrelEEFJpjzI",
        "colab": {
          "base_uri": "https://localhost:8080/"
        },
        "outputId": "c970ff0e-3fb6-4aa1-dea5-7714bb258ff1"
      },
      "execution_count": null,
      "outputs": [
        {
          "output_type": "stream",
          "name": "stdout",
          "text": [
            "Submission file created: submission_file.csv\n"
          ]
        }
      ]
    },
    {
      "cell_type": "code",
      "source": [],
      "metadata": {
        "id": "HpJKGTuDcZhs"
      },
      "execution_count": null,
      "outputs": []
    }
  ],
  "metadata": {
    "colab": {
      "provenance": [],
      "collapsed_sections": [
        "eCNNEXIhftVN",
        "mLFiGySNftVP",
        "ntGpbsBg8hft"
      ],
      "include_colab_link": true
    },
    "kernelspec": {
      "display_name": "Python 3",
      "name": "python3"
    },
    "language_info": {
      "name": "python",
      "version": "3.12.4"
    }
  },
  "nbformat": 4,
  "nbformat_minor": 0
}